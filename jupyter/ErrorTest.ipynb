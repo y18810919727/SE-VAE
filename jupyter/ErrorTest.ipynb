{
 "cells": [
  {
   "cell_type": "code",
   "execution_count": 1,
   "metadata": {},
   "outputs": [],
   "source": [
    "import os\n",
    "import shutil\n",
    "import re"
   ]
  },
  {
   "cell_type": "code",
   "execution_count": 2,
   "metadata": {},
   "outputs": [
    {
     "name": "stdout",
     "output_type": "stream",
     "text": [
      "['ckpt/winding/srnn/srnn_model.D=1/2020-12-02_22-35-24', 'ckpt/winding/srnn/srnn_model.D=5/2020-12-03_01-23-11', 'ckpt/winding/srnn/srnn_model.D=3/2020-12-02_23-58-35', 'ckpt/winding/srnn/srnn_/2020-11-25_19-48-03', 'ckpt/winding/vrnn_overshooting/vrnn_model.D=5/2020-11-30_16-03-22', 'ckpt/winding/vaecl/vaecl_model.D=5/2020-12-01_12-06-05', 'ckpt/winding/vaecl/vaecl_model.D=5/2020-12-01_12-07-01', 'ckpt/winding/vaecl/vaecl_model.D=5/2020-11-29_20-42-05', 'ckpt/winding/vaecl/vaecl_model.D=3/2020-12-01_11-15-02', 'ckpt/winding/vaecl/vaecl_model.D=3/2020-12-01_11-15-52', 'ckpt/winding/vaecl/vaecl_model.D=1/2020-12-01_10-43-25', 'ckpt/winding/vaecl/vaecl_model.D=1/2020-11-29_15-45-38', 'ckpt/winding/vaecl/vaecl_model.D=1/2020-12-01_10-43-27', 'ckpt/winding/vrnn/vrnn_/2020-11-28_13-19-37', 'ckpt/winding/vrnn/vrnn_model.D=1/2020-12-02_19-30-27', 'ckpt/winding/vrnn/vrnn_model.D=3/2020-12-02_22-10-52', 'ckpt/winding/srnn_overshooting/srnn_model.D=5/2020-11-30_17-22-42', 'ckpt/winding/srnn_overshooting/srnn_model.D=10/2020-11-30_19-26-03', 'ckpt/winding/vaecl_net_decoder/vaecl_model.D=5/2020-11-30_11-11-53', 'ckpt/winding/vaecl_net_decoder/vaecl_model.D=10/2020-11-30_16-42-39', 'ckpt/winding/vaecl_net_decoder/vaecl_model.D=15/2020-12-01_02-58-23', 'ckpt/winding/vaecl_net_decoder/vaecl_model.D=20/2020-12-01_19-11-48', 'ckpt/winding/vaecl_net_decoder/vaecl_model.D=1/2020-11-30_07-37-13', 'ckpt/cstr/srnn/srnn_model.D=1/2020-12-02_13-04-20', 'ckpt/cstr/srnn/srnn_model.D=5/2020-12-02_19-07-53', 'ckpt/cstr/srnn/srnn_model.D=3/2020-12-02_15-44-21', 'ckpt/cstr/srnn/srnn_/2020-11-25_14-57-52', 'ckpt/cstr/vrnn_overshooting/vrnn_model.D=5/2020-11-30_14-43-24', 'ckpt/cstr/vaecl/vaecl_model.D=5/2020-12-01_09-30-04', 'ckpt/cstr/vaecl/vaecl_model.D=5/2020-11-29_17-21-47', 'ckpt/cstr/vaecl/vaecl_model.D=5/2020-12-01_08-43-09', 'ckpt/cstr/vaecl/vaecl_model.D=3/2020-12-01_07-40-36', 'ckpt/cstr/vaecl/vaecl_model.D=3/2020-12-01_07-41-34', 'ckpt/cstr/vaecl/vaecl_model.D=1/2020-12-01_07-13-54', 'ckpt/cstr/vaecl/vaecl_model.D=1/2020-11-29_14-11-52', 'ckpt/cstr/vaecl/vaecl_model.D=1/2020-12-01_07-13-00', 'ckpt/cstr/vrnn/vrnn_/2020-11-28_08-51-15', 'ckpt/cstr/vrnn/vrnn_model.D=1/2020-12-01_07-09-41', 'ckpt/cstr/vrnn/vrnn_model.D=5/2020-12-02_13-22-30', 'ckpt/cstr/vrnn/vrnn_model.D=3/2020-12-01_11-50-35', 'ckpt/cstr/srnn_overshooting/srnn_model.D=5/2020-11-30_13-38-58', 'ckpt/cstr/srnn_overshooting/srnn_model.D=10/2020-11-30_15-34-41', 'ckpt/cstr/vaecl_net_decoder/vaecl_model.D=5/2020-11-30_09-23-27', 'ckpt/cstr/vaecl_net_decoder/vaecl_model.D=10/2020-11-30_14-04-57', 'ckpt/cstr/vaecl_net_decoder/vaecl_model.D=15/2020-11-30_22-14-44', 'ckpt/cstr/vaecl_net_decoder/vaecl_model.D=20/2020-12-01_09-51-14', 'ckpt/cstr/vaecl_net_decoder/vaecl_model.D=1/2020-11-30_07-00-34', 'ckpt/west/srnn/srnn_model.D=1/2020-12-03_02-48-55', 'ckpt/west/srnn/srnn_model.D=5/2020-12-03_08-34-29', 'ckpt/west/srnn/srnn_model.D=3/2020-12-03_06-32-27', 'ckpt/west/srnn/srnn_/2020-11-25_21-46-40', 'ckpt/west/vrnn_overshooting/vrnn_model.D=5/2020-11-30_18-35-19', 'ckpt/west/vaecl/vaecl_model.D=5/2020-11-29_22-12-03', 'ckpt/west/vaecl/vaecl_model.D=5/2020-12-01_14-36-25', 'ckpt/west/vaecl/vaecl_model.D=5/2020-12-01_14-56-24', 'ckpt/west/vaecl/vaecl_model.D=3/2020-12-01_13-35-32', 'ckpt/west/vaecl/vaecl_model.D=3/2020-12-01_13-44-08', 'ckpt/west/vaecl/vaecl_model.D=1/2020-12-01_12-59-38', 'ckpt/west/vaecl/vaecl_model.D=1/2020-12-01_12-52-36', 'ckpt/west/vaecl/vaecl_model.D=1/2020-11-29_16-23-01', 'ckpt/west/vrnn/vrnn_/2020-11-28_21-59-55', 'ckpt/west/vrnn/vrnn_model.D=1/2020-12-03_03-43-54', 'ckpt/west/vrnn/vrnn_model.D=5/2020-12-03_11-40-14', 'ckpt/west/vrnn/vrnn_model.D=3/2020-12-03_07-20-37', 'ckpt/west/srnn_overshooting/srnn_model.D=5/2020-11-30_21-39-22', 'ckpt/west/srnn_overshooting/srnn_model.D=10/2020-11-30_22-18-36', 'ckpt/west/vaecl_net_decoder/vaecl_model.D=5/2020-11-30_12-11-50', 'ckpt/west/vaecl_net_decoder/vaecl_model.D=10/2020-11-30_19-03-18', 'ckpt/west/vaecl_net_decoder/vaecl_model.D=15/2020-12-01_05-26-31', 'ckpt/west/vaecl_net_decoder/vaecl_model.D=1/2020-11-30_08-05-18']\n"
     ]
    }
   ],
   "source": [
    "def my_filter(path):\n",
    "    log_path = os.path.join('..', path, 'log.out')\n",
    "    log_s = open(log_path, 'r').readlines()\n",
    "    test_path = os.path.join('..', path, 'test.out')\n",
    "    test_s = open(log_path, 'r').readlines()\n",
    "    #if False:\n",
    "        #print(log_path)\n",
    "        #return False\n",
    "    #elif s[4] != 'history_length: 40\\n' and s[5] != 'forward_length: 160\\n':\n",
    "        #print(log_path)\n",
    "        #return False\n",
    "    #elif 'Error' in test_s[-2]:\n",
    "        #print(log_path)\n",
    "        #return False\n",
    "    #else:\n",
    "    return True\n",
    "    \n",
    "def generating_dir(base_dir, root_dir):\n",
    "    ret = []\n",
    "    for file in os.listdir(os.path.join(root_dir, base_dir)):\n",
    "        if file == 'tmp':\n",
    "            continue\n",
    "        path = os.path.join(base_dir, file)\n",
    "        if os.path.isdir(os.path.join(root_dir, path)):\n",
    "            ret = ret + generating_dir(path, root_dir)\n",
    "        elif file == 'log.out':                                                   #and os.path.exists(os.path.join(root_dir, base_dir, 'best.pth')):\n",
    "            if my_filter(os.path.split(path)[0]):\n",
    "                ret.append(os.path.split(path)[0])\n",
    "            else:\n",
    "                continue\n",
    "    return ret\n",
    "\n",
    "path_list = generating_dir('ckpt'+os.path.sep, '..'+os.path.sep)\n",
    "print(path_list)"
   ]
  },
  {
   "cell_type": "code",
   "execution_count": 3,
   "metadata": {},
   "outputs": [],
   "source": [
    "def error_test(path_list):\n",
    "    for t in range(len(path_list)):      #第t个临时列表中的路径\n",
    "        error_test=True                   #存在error的标志\n",
    "        if os.path.exists('..'+os.path.sep+path_list[t]+os.path.sep+'test.out'):\n",
    "            f = open('..'+os.path.sep+path_list[t]+os.path.sep+'test.out','r')\n",
    "            test_data = f.readlines()\n",
    "            f.close()\n",
    "            for line in range(len(test_data)):\n",
    "                if re.search('likelihood',test_data[line]):\n",
    "                    error_test=False\n",
    "                    #print(line,len(log_data))\n",
    "                    #print('find it')\n",
    "            if error_test==True:\n",
    "                error_test_list.append(path_list[t])\n",
    "                print('find error')\n",
    "                print(path_list[t])\n",
    "        else:\n",
    "            error_test_list.append(path_list[t])\n",
    "            print('Can not find test.out')\n",
    "            print(path_list[t])\n",
    "        \n",
    "   "
   ]
  },
  {
   "cell_type": "code",
   "execution_count": 4,
   "metadata": {},
   "outputs": [],
   "source": [
    "error_test_list=[]                    #错误test文件路径集合\n",
    "error_test(path_list)"
   ]
  },
  {
   "cell_type": "code",
   "execution_count": 5,
   "metadata": {},
   "outputs": [
    {
     "data": {
      "text/plain": [
       "[]"
      ]
     },
     "execution_count": 5,
     "metadata": {},
     "output_type": "execute_result"
    }
   ],
   "source": [
    "error_test_list"
   ]
  },
  {
   "cell_type": "code",
   "execution_count": null,
   "metadata": {},
   "outputs": [],
   "source": []
  }
 ],
 "metadata": {
  "kernelspec": {
   "display_name": "Python 3",
   "language": "python",
   "name": "python3"
  },
  "language_info": {
   "codemirror_mode": {
    "name": "ipython",
    "version": 3
   },
   "file_extension": ".py",
   "mimetype": "text/x-python",
   "name": "python",
   "nbconvert_exporter": "python",
   "pygments_lexer": "ipython3",
   "version": "3.6.9"
  }
 },
 "nbformat": 4,
 "nbformat_minor": 4
}
